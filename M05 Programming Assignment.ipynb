{
 "cells": [
  {
   "cell_type": "code",
   "execution_count": null,
   "id": "213c4660-f51b-45ae-80d6-9b0cb3bb9af8",
   "metadata": {},
   "outputs": [],
   "source": [
    "# test_sum.py\n",
    "\n",
    "def test_sum():\n",
    "    assert sum([1, 2, 3]) == 6, \"Should be 6\"\n",
    "\n",
    "if __name__ == \"__main__\":\n",
    "    test_sum()\n",
    "    print(\"Everything passed\")"
   ]
  },
  {
   "cell_type": "code",
   "execution_count": null,
   "id": "e88b7ca7-dbc5-4fe6-a7df-e55bbe4a0c7b",
   "metadata": {},
   "outputs": [],
   "source": [
    "# test_sum_2.py\n",
    "\n",
    "def test_sum():\n",
    "    assert sum([1, 2, 3]) == 6, \"Should be 6\"\n",
    "\n",
    "def test_sum_tuple():\n",
    "    assert sum((1, 2, 2)) == 6, \"Should be 6\"\n",
    "\n",
    "if __name__ == \"__main__\":\n",
    "    test_sum()\n",
    "    test_sum_tuple()\n",
    "    print(\"Everything passed\")"
   ]
  },
  {
   "cell_type": "code",
   "execution_count": null,
   "id": "06ce304c-204b-4401-b8bb-49341bfeef59",
   "metadata": {},
   "outputs": [],
   "source": [
    "# test_sum_unittest (For VSCode)\n",
    "\n",
    "import unittest\n",
    "\n",
    "\n",
    "class TestSum(unittest.TestCase):\n",
    "\n",
    "    def test_sum(self):\n",
    "        self.assertEqual(sum([1, 2, 3]), 6, \"Should be 6\")\n",
    "\n",
    "    def test_sum_tuple(self):\n",
    "        self.assertEqual(sum((1, 2, 2)), 6, \"Should be 6\")\n",
    "\n",
    "if __name__ == '__main__':\n",
    "    unittest.main()"
   ]
  },
  {
   "cell_type": "code",
   "execution_count": null,
   "id": "89c87b40-d222-42e5-b3e7-48a8bbbabe6d",
   "metadata": {},
   "outputs": [],
   "source": [
    "# __innit__.py\n",
    "\n",
    "def sum(arg):\n",
    "    total = 0\n",
    "    for val in arg:\n",
    "        total += val\n",
    "    return total"
   ]
  },
  {
   "cell_type": "code",
   "execution_count": null,
   "id": "1bfa560d-93ae-446c-b160-94e388a7241a",
   "metadata": {},
   "outputs": [],
   "source": [
    "# test.py (For VSCode)\n",
    "\n",
    "from fractions import Fraction\n",
    "import unittest\n",
    "\n",
    "from my_sum import sum\n",
    "\n",
    "\n",
    "class TestSum(unittest.TestCase):\n",
    "    def test_list_int(self):\n",
    "        \"\"\"\n",
    "        Test that it can sum a list of integers\n",
    "        \"\"\"\n",
    "        data = [1, 2, 3]\n",
    "        result = sum(data)\n",
    "        self.assertEqual(result, 6)\n",
    "\n",
    "    def test_list_fraction(self):\n",
    "        \"\"\"\n",
    "        Test that it can sum a list of fractions\n",
    "        \"\"\"\n",
    "        data = [Fraction(1, 4), Fraction(1, 4), Fraction(2, 5)]\n",
    "        result = sum(data)\n",
    "        self.assertEqual(result, 1)\n",
    "\n",
    "if __name__ == '__main__':\n",
    "    unittest.main()"
   ]
  },
  {
   "cell_type": "code",
   "execution_count": null,
   "id": "76c37355-aa85-47cb-910c-e26b9248bbb5",
   "metadata": {},
   "outputs": [],
   "source": [
    "# Describe the test results in your own words.  What do the test results mean?\n",
    "\n",
    "\"\"\"\n",
    "\n",
    "⁤test_list_int is a passed test as it checks if the sum of the integers 1, 2, and 3 are 6. ⁤⁤The program displays a (.) ⁤⁤at the end of the program. ⁤\n",
    "\n",
    "⁤test_list_fraction is a failed test as it checks if the sum of fractions (Fraction(1, 4), Fraction(1, 4), Fraction(2, 5) is 1 ⁤\n",
    "⁤(instead resulting in Fraction(9, 10). ⁤⁤The program displays an (F) at the end of the program. ⁤\n",
    "\n",
    "\"\"\"\""
   ]
  }
 ],
 "metadata": {
  "kernelspec": {
   "display_name": "Python 3 (ipykernel)",
   "language": "python",
   "name": "python3"
  },
  "language_info": {
   "codemirror_mode": {
    "name": "ipython",
    "version": 3
   },
   "file_extension": ".py",
   "mimetype": "text/x-python",
   "name": "python",
   "nbconvert_exporter": "python",
   "pygments_lexer": "ipython3",
   "version": "3.11.7"
  }
 },
 "nbformat": 4,
 "nbformat_minor": 5
}
